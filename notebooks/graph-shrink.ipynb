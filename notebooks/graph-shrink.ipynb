{
 "cells": [
  {
   "cell_type": "markdown",
   "id": "187d5682-6ef3-4be2-86b5-cfb78e738e73",
   "metadata": {},
   "source": [
    "This jupyter notebook conducts experiments to see what are the best parameters and filters to use to shrink the transaction graph.\n",
    "Some parameters to consider:\n",
    "1. The timesteps on which we decide which the wallets to keep\n",
    "2. The number of transactions conducted by each wallet\n",
    "3. The connectivity of wallet\n",
    "4. The amount of ethereum transacted from/to the wallet"
   ]
  },
  {
   "cell_type": "markdown",
   "id": "3bcbccb9-2d59-4ded-b4fd-40e3d5ab0ca4",
   "metadata": {},
   "source": [
    "# 1. Get a basic sense: check graph size of one time step"
   ]
  },
  {
   "cell_type": "code",
   "execution_count": 1,
   "id": "7e363b11-41f1-496d-966a-1f46682882c8",
   "metadata": {},
   "outputs": [],
   "source": [
    "from graph_tools.components.graph import TransactionGraph, GraphGenerator"
   ]
  },
  {
   "cell_type": "code",
   "execution_count": null,
   "id": "f0db746c-af16-41d6-b024-5ca3ea885c33",
   "metadata": {},
   "outputs": [
    {
     "name": "stderr",
     "output_type": "stream",
     "text": [
      " 67%|███████████████████████████████████████████▎                     | 2/3 [01:19<00:39, 39.79s/it]"
     ]
    }
   ],
   "source": [
    "short_period_graph = TransactionGraph(transaction_file='data/transaction table 20190101-20190401.csv', total_time_steps=3)"
   ]
  },
  {
   "cell_type": "code",
   "execution_count": null,
   "id": "158785ad-32c8-493f-92bd-2cc682d1f820",
   "metadata": {},
   "outputs": [],
   "source": []
  }
 ],
 "metadata": {
  "kernelspec": {
   "display_name": "python3-cs224w",
   "language": "python",
   "name": "python3-cs224w"
  },
  "language_info": {
   "codemirror_mode": {
    "name": "ipython",
    "version": 3
   },
   "file_extension": ".py",
   "mimetype": "text/x-python",
   "name": "python",
   "nbconvert_exporter": "python",
   "pygments_lexer": "ipython3",
   "version": "3.8.12"
  }
 },
 "nbformat": 4,
 "nbformat_minor": 5
}
