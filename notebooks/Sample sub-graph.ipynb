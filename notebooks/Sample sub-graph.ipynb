{
 "cells": [
  {
   "cell_type": "code",
   "execution_count": 1,
   "id": "8676a41f",
   "metadata": {},
   "outputs": [
    {
     "name": "stdout",
     "output_type": "stream",
     "text": [
      "Full graph contains 107307 nodes and 2155715 edges\n"
     ]
    }
   ],
   "source": [
    "from graph_tools.data_utils.data_loader import SingleGraphLoader\n",
    "\n",
    "loader = SingleGraphLoader('../../data/shrunk/transaction-table-at_least_10_both_priced-20190101-20190401.csv', None)"
   ]
  },
  {
   "cell_type": "code",
   "execution_count": 2,
   "id": "a1b7d906",
   "metadata": {},
   "outputs": [
    {
     "name": "stdout",
     "output_type": "stream",
     "text": [
      "MultiDiGraph with 2 nodes and 1 edges\n",
      "MultiDiGraph with 2 nodes and 1 edges\n",
      "MultiDiGraph with 2 nodes and 1 edges\n",
      "MultiDiGraph with 2 nodes and 1 edges\n",
      "MultiDiGraph with 2 nodes and 1 edges\n",
      "MultiDiGraph with 2 nodes and 1 edges\n",
      "MultiDiGraph with 2 nodes and 1 edges\n",
      "MultiDiGraph with 2 nodes and 1 edges\n",
      "MultiDiGraph with 2 nodes and 1 edges\n",
      "MultiDiGraph with 2 nodes and 1 edges\n",
      "MultiDiGraph with 2 nodes and 1 edges\n",
      "MultiDiGraph with 2 nodes and 1 edges\n"
     ]
    }
   ],
   "source": [
    "%matplotlib inline\n",
    "import matplotlib.pyplot as plt\n",
    "import networkx.drawing.nx_pylab as nx\n",
    "import networkx.drawing.nx_pydot as nxd\n",
    "import os\n",
    "\n",
    "for i, g in enumerate(loader):\n",
    "    print(g)\n",
    "    nxd.write_dot(g, f\"graph_vis_output/graph_{i}.dot\")\n",
    "    os.system(f\"neato -T png graph_vis_output/graph_{i}.dot > graph_vis_output/graph_{i}.png\")\n",
    "    \n",
    "    if i > 10:\n",
    "        break"
   ]
  },
  {
   "cell_type": "code",
   "execution_count": null,
   "id": "e7926eb3",
   "metadata": {},
   "outputs": [],
   "source": []
  }
 ],
 "metadata": {
  "kernelspec": {
   "display_name": "python3-cs224w",
   "language": "python",
   "name": "python3-cs224w"
  },
  "language_info": {
   "codemirror_mode": {
    "name": "ipython",
    "version": 3
   },
   "file_extension": ".py",
   "mimetype": "text/x-python",
   "name": "python",
   "nbconvert_exporter": "python",
   "pygments_lexer": "ipython3",
   "version": "3.8.12"
  }
 },
 "nbformat": 4,
 "nbformat_minor": 5
}
